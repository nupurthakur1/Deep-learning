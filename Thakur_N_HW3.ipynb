{
 "cells": [
  {
   "cell_type": "code",
   "execution_count": 166,
   "metadata": {},
   "outputs": [],
   "source": [
    "from tensorflow.keras.datasets import cifar10\n",
    "from tensorflow.keras.models import Sequential\n",
    "from tensorflow.keras.layers import Dense, Flatten, Conv2D, MaxPooling2D, Dropout\n",
    "from tensorflow.keras.losses import sparse_categorical_crossentropy\n",
    "from tensorflow.keras.optimizers import Adam\n",
    "import matplotlib.pyplot as plt\n",
    "import numpy as np\n",
    "import pickle\n",
    "\n",
    "cifar10_dataset_folder_path = 'cifar-10-batches-py'"
   ]
  },
  {
   "cell_type": "code",
   "execution_count": 167,
   "metadata": {},
   "outputs": [],
   "source": [
    "n_batches = 5 #data_batch_1\n",
    "batch_id = 5\n",
    "file = {}\n",
    "# load training dataset batchwise\n",
    "# for batch_i in range(batch_id):\n",
    "training_batch1 = open(cifar10_dataset_folder_path + '/data_batch_1', mode='rb')\n",
    "batch = pickle.load(training_batch1, encoding='latin1')\n",
    "f1 = np.array(batch['data']).reshape((len(batch['data']), 32, 32, 3))\n",
    "l1 = np.array(batch['labels'])\n",
    "\n",
    "training_batch1 = open(cifar10_dataset_folder_path + '/data_batch_2', mode='rb')\n",
    "batch = pickle.load(training_batch1, encoding='latin1')\n",
    "f2 = np.array(batch['data']).reshape((len(batch['data']), 32, 32, 3))\n",
    "l2 = np.array(batch['labels'])\n",
    "\n",
    "training_batch1 = open(cifar10_dataset_folder_path + '/data_batch_3', mode='rb')\n",
    "batch = pickle.load(training_batch1, encoding='latin1')\n",
    "f3 = np.array(batch['data']).reshape((len(batch['data']), 32, 32, 3))\n",
    "l3 = np.array(batch['labels'])\n",
    "\n",
    "training_batch1 = open(cifar10_dataset_folder_path + '/data_batch_4', mode='rb')\n",
    "batch = pickle.load(training_batch1, encoding='latin1')\n",
    "f4 = np.array(batch['data']).reshape((len(batch['data']), 32, 32, 3))\n",
    "l4 = np.array(batch['labels'])\n",
    "\n",
    "training_batch1 = open(cifar10_dataset_folder_path + '/data_batch_5', mode='rb')\n",
    "batch = pickle.load(training_batch1, encoding='latin1')\n",
    "f5 = np.array(batch['data']).reshape((len(batch['data']), 32, 32, 3))\n",
    "l5 = np.array(batch['labels'])\n",
    "\n",
    "x_train = np.concatenate([f1, f2, f3, f4, f5], axis=0)\n",
    "y_train = np.concatenate([l1, l2, l3, l4, l5], axis=0)\n",
    "\n",
    "# test data\n",
    "test_batch = open(cifar10_dataset_folder_path + '/test_batch', mode='rb')\n",
    "batch = pickle.load(test_batch, encoding='latin1')\n",
    "x_test = np.array(batch['data']).reshape((len(batch['data']), 32, 32, 3))\n",
    "y_test = np.array(batch['labels'])"
   ]
  },
  {
   "cell_type": "code",
   "execution_count": 168,
   "metadata": {},
   "outputs": [],
   "source": [
    "# Determine shape of the data\n",
    "input_shape = (32, 32, 3)\n",
    "\n",
    "# Parse numbers as floats\n",
    "x_train = x_train.astype('float32')\n",
    "x_test = x_test.astype('float32')\n",
    "\n",
    "# Normalize data\n",
    "x_train = x_train / 255\n",
    "x_test = x_test / 255"
   ]
  },
  {
   "cell_type": "code",
   "execution_count": 181,
   "metadata": {},
   "outputs": [
    {
     "data": {
      "text/plain": [
       "<bound method Network.summary of <tensorflow.python.keras.engine.sequential.Sequential object at 0x00000228B2AA1088>>"
      ]
     },
     "execution_count": 181,
     "metadata": {},
     "output_type": "execute_result"
    }
   ],
   "source": [
    "# Create the model\n",
    "model = Sequential()\n",
    "model.add(Conv2D(64, kernel_size=(5, 5), activation='relu', input_shape=input_shape))\n",
    "# model.add(MaxPooling2D(pool_size=(2, 2), strides=2))\n",
    "# model.add(Dropout(0.25))\n",
    "model.add(Conv2D(64, kernel_size=(5, 5), activation='relu'))\n",
    "model.add(MaxPooling2D(pool_size=(2, 2), strides=2))\n",
    "model.add(Dropout(0.25))\n",
    "model.add(Flatten())\n",
    "model.add(Dense(384, activation='relu'))\n",
    "model.add(Dense(192, activation='relu'))\n",
    "model.add(Dense(10, activation='softmax'))"
   ]
  },
  {
   "cell_type": "code",
   "execution_count": 188,
   "metadata": {},
   "outputs": [],
   "source": [
    "# coefficients of first 5 filters in 1st and 2nd convolutional layers\n",
    "first_layer_weights = model.layers[0].get_weights()[0]\n",
    "first_layer_biases  = model.layers[0].get_weights()[1]\n",
    "second_layer_weights = model.layers[1].get_weights()[0]\n",
    "second_layer_biases  = model.layers[1].get_weights()[1]"
   ]
  },
  {
   "cell_type": "code",
   "execution_count": 147,
   "metadata": {},
   "outputs": [
    {
     "name": "stdout",
     "output_type": "stream",
     "text": [
      "Train on 40000 samples, validate on 10000 samples\n",
      "Epoch 1/5\n",
      "40000/40000 [==============================] - 103s 3ms/sample - loss: 1.9031 - accuracy: 0.3049 - val_loss: 1.6707 - val_accuracy: 0.3991\n",
      "Epoch 2/5\n",
      "40000/40000 [==============================] - 137s 3ms/sample - loss: 1.6281 - accuracy: 0.4136 - val_loss: 1.5730 - val_accuracy: 0.4330\n",
      "Epoch 3/5\n",
      "40000/40000 [==============================] - 124s 3ms/sample - loss: 1.5356 - accuracy: 0.4512 - val_loss: 1.4722 - val_accuracy: 0.4731\n",
      "Epoch 4/5\n",
      "40000/40000 [==============================] - 135s 3ms/sample - loss: 1.4654 - accuracy: 0.4777 - val_loss: 1.4160 - val_accuracy: 0.4975\n",
      "Epoch 5/5\n",
      "40000/40000 [==============================] - 125s 3ms/sample - loss: 1.4164 - accuracy: 0.4971 - val_loss: 1.3742 - val_accuracy: 0.5164\n",
      "Test loss: 1.3565473161697388, Classification accuracy on the test set: 0.5184999704360962\n"
     ]
    }
   ],
   "source": [
    "batch_size = 64\n",
    "loss_function = sparse_categorical_crossentropy\n",
    "epochs = 30\n",
    "optimizer = Adam(learning_rate=0.0001)\n",
    "\n",
    "# Compile the model\n",
    "model.compile(loss=loss_function,\n",
    "              optimizer=optimizer,\n",
    "              metrics=['accuracy'])\n",
    "\n",
    "# Fit data to model\n",
    "history = model.fit(x_train, y_train,\n",
    "            batch_size=batch_size,\n",
    "            epochs=epochs,\n",
    "            verbose=1,\n",
    "            validation_split=0.2)\n",
    "\n",
    "# Generate generalization metrics\n",
    "batch = model.evaluate(x_test, y_test, verbose=0)\n",
    "print(f'Test loss: {batch[0]}, Classification accuracy on the test set: {batch[1]}')"
   ]
  },
  {
   "cell_type": "code",
   "execution_count": 157,
   "metadata": {},
   "outputs": [
    {
     "data": {
      "image/png": "[encoded data removed]",
      "text/plain": [
       "<Figure size 432x288 with 1 Axes>"
      ]
     },
     "metadata": {
      "needs_background": "light"
     },
     "output_type": "display_data"
    },
    {
     "data": {
      "image/png": "[encoded data removed]",
      "text/plain": [
       "<Figure size 432x288 with 1 Axes>"
      ]
     },
     "metadata": {
      "needs_background": "light"
     },
     "output_type": "display_data"
    },
    {
     "ename": "IndexError",
     "evalue": "list index out of range",
     "output_type": "error",
     "traceback": [
      "\u001b[1;31m---------------------------------------------------------------------------\u001b[0m",
      "\u001b[1;31mIndexError\u001b[0m                                Traceback (most recent call last)",
      "\u001b[1;32m<ipython-input-157-444968278332>\u001b[0m in \u001b[0;36m<module>\u001b[1;34m\u001b[0m\n\u001b[0;32m     24\u001b[0m \u001b[0mfirst_layer_weights\u001b[0m \u001b[1;33m=\u001b[0m \u001b[0mmodel\u001b[0m\u001b[1;33m.\u001b[0m\u001b[0mlayers\u001b[0m\u001b[1;33m[\u001b[0m\u001b[1;36m0\u001b[0m\u001b[1;33m]\u001b[0m\u001b[1;33m.\u001b[0m\u001b[0mget_weights\u001b[0m\u001b[1;33m(\u001b[0m\u001b[1;33m)\u001b[0m\u001b[1;33m[\u001b[0m\u001b[1;36m0\u001b[0m\u001b[1;33m]\u001b[0m\u001b[1;33m\u001b[0m\u001b[1;33m\u001b[0m\u001b[0m\n\u001b[0;32m     25\u001b[0m \u001b[0mfirst_layer_biases\u001b[0m  \u001b[1;33m=\u001b[0m \u001b[0mmodel\u001b[0m\u001b[1;33m.\u001b[0m\u001b[0mlayers\u001b[0m\u001b[1;33m[\u001b[0m\u001b[1;36m0\u001b[0m\u001b[1;33m]\u001b[0m\u001b[1;33m.\u001b[0m\u001b[0mget_weights\u001b[0m\u001b[1;33m(\u001b[0m\u001b[1;33m)\u001b[0m\u001b[1;33m[\u001b[0m\u001b[1;36m1\u001b[0m\u001b[1;33m]\u001b[0m\u001b[1;33m\u001b[0m\u001b[1;33m\u001b[0m\u001b[0m\n\u001b[1;32m---> 26\u001b[1;33m \u001b[0msecond_layer_weights\u001b[0m \u001b[1;33m=\u001b[0m \u001b[0mmodel\u001b[0m\u001b[1;33m.\u001b[0m\u001b[0mlayers\u001b[0m\u001b[1;33m[\u001b[0m\u001b[1;36m1\u001b[0m\u001b[1;33m]\u001b[0m\u001b[1;33m.\u001b[0m\u001b[0mget_weights\u001b[0m\u001b[1;33m(\u001b[0m\u001b[1;33m)\u001b[0m\u001b[1;33m[\u001b[0m\u001b[1;36m0\u001b[0m\u001b[1;33m]\u001b[0m\u001b[1;33m\u001b[0m\u001b[1;33m\u001b[0m\u001b[0m\n\u001b[0m\u001b[0;32m     27\u001b[0m \u001b[0msecond_layer_biases\u001b[0m  \u001b[1;33m=\u001b[0m \u001b[0mmodel\u001b[0m\u001b[1;33m.\u001b[0m\u001b[0mlayers\u001b[0m\u001b[1;33m[\u001b[0m\u001b[1;36m1\u001b[0m\u001b[1;33m]\u001b[0m\u001b[1;33m.\u001b[0m\u001b[0mget_weights\u001b[0m\u001b[1;33m(\u001b[0m\u001b[1;33m)\u001b[0m\u001b[1;33m[\u001b[0m\u001b[1;36m1\u001b[0m\u001b[1;33m]\u001b[0m\u001b[1;33m\u001b[0m\u001b[1;33m\u001b[0m\u001b[0m\n\u001b[0;32m     28\u001b[0m \u001b[1;31m# first_layer_weights\u001b[0m\u001b[1;33m\u001b[0m\u001b[1;33m\u001b[0m\u001b[1;33m\u001b[0m\u001b[0m\n",
      "\u001b[1;31mIndexError\u001b[0m: list index out of range"
     ]
    }
   ],
   "source": [
    "loss = history.history['loss']\n",
    "val_loss = history.history['val_loss']\n",
    "epochs = range(1, len(loss) + 1)\n",
    "plt.plot(epochs, loss, color='red', label='Training loss')\n",
    "plt.plot(epochs, val_loss, color='green', label='Validation loss')\n",
    "plt.title('Training and validation loss')\n",
    "plt.xlabel('Epochs')\n",
    "plt.ylabel('Loss')\n",
    "plt.legend()\n",
    "plt.show()\n",
    "\n",
    "# Plot history: Accuracy\n",
    "accuracy = history.history['accuracy']\n",
    "val_accuracy = history.history['val_accuracy']\n",
    "epochs = range(1, len(loss) + 1)\n",
    "plt.plot(epochs, accuracy, color='red', label='Training accuracy')\n",
    "plt.plot(epochs, val_accuracy, color='green', label='Validation accuracy')\n",
    "plt.title('Training and Validation accuracy')\n",
    "plt.ylabel('Accuracy value (%)')\n",
    "plt.xlabel('No. epoch')\n",
    "plt.show()"
   ]
  },
  {
   "cell_type": "markdown",
   "metadata": {},
   "source": [
    "GRAYSCALE"
   ]
  },
  {
   "cell_type": "code",
   "execution_count": 158,
   "metadata": {},
   "outputs": [],
   "source": [
    "# RGB to grayscale code conversion\n",
    "def grayscale(data, dtype = 'float32'):\n",
    "    r,g,b = np.asarray(.3 , dtype = dtype),np.asarray(.59 , dtype = dtype),np.asarray(.11 , dtype = dtype)\n",
    "    rst = r * data[:,:,:,0] + g * data[:,:,:,1] + b * data[:,:,:,2]\n",
    "    rst = np.expand_dims(rst, axis = 3)\n",
    "    return rst\n",
    "\n",
    "x_train_gray=grayscale(x_train)\n",
    "x_test_gray=grayscale(x_test)"
   ]
  },
  {
   "cell_type": "code",
   "execution_count": 159,
   "metadata": {},
   "outputs": [],
   "source": [
    "gray_input_shape = (32, 32, 1)\n",
    "# Create the model\n",
    "model = Sequential()\n",
    "model.add(Conv2D(64, kernel_size=(5, 5), activation='relu', input_shape = gray_input_shape))\n",
    "model.add(MaxPooling2D(pool_size=(2, 2), strides=2))\n",
    "model.add(Dropout(0.25))\n",
    "model.add(Conv2D(64, kernel_size=(5, 5), activation='relu'))\n",
    "model.add(MaxPooling2D(pool_size=(2, 2), strides=2))\n",
    "model.add(Dropout(0.25))\n",
    "model.add(Flatten())\n",
    "model.add(Dense(384, activation='relu'))\n",
    "model.add(Dense(192, activation='relu'))\n",
    "model.add(Dense(10, activation='softmax'))"
   ]
  },
  {
   "cell_type": "code",
   "execution_count": 164,
   "metadata": {},
   "outputs": [
    {
     "name": "stdout",
     "output_type": "stream",
     "text": [
      "Train on 40000 samples, validate on 10000 samples\n",
      "40000/40000 [==============================] - 86s 2ms/sample - loss: 1.4212 - accuracy: 0.4943 - val_loss: 1.3851 - val_accuracy: 0.5058\n",
      "Test loss: 1.3652864730834962 / Test accuracy: 0.5148000121116638\n"
     ]
    }
   ],
   "source": [
    "batch_size = 64\n",
    "loss_function = sparse_categorical_crossentropy\n",
    "epochs = 30\n",
    "optimizer = Adam(learning_rate=0.0001)\n",
    "\n",
    "# Compile the model\n",
    "model.compile(loss=loss_function,\n",
    "              optimizer=optimizer,\n",
    "              metrics=['accuracy'])\n",
    "\n",
    "# Fit data to model\n",
    "history = model.fit(x_train_gray, y_train,\n",
    "            batch_size=batch_size,\n",
    "            epochs=epochs,\n",
    "            verbose=1,\n",
    "            validation_split=0.2)\n",
    "\n",
    "# Generate generalization metrics\n",
    "batch = model.evaluate(x_test_gray, y_test, verbose=0)\n",
    "print('Test loss: {batch[0]} / Test accuracy: {batch[1]}')"
   ]
  },
  {
   "cell_type": "code",
   "execution_count": 165,
   "metadata": {},
   "outputs": [
    {
     "data": {
      "image/png": "[encoded data removed]",
      "text/plain": [
       "<Figure size 432x288 with 1 Axes>"
      ]
     },
     "metadata": {
      "needs_background": "light"
     },
     "output_type": "display_data"
    },
    {
     "data": {
      "image/png": "[encoded data removed]",
      "text/plain": [
       "<Figure size 432x288 with 1 Axes>"
      ]
     },
     "metadata": {
      "needs_background": "light"
     },
     "output_type": "display_data"
    }
   ],
   "source": [
    "loss = history.history['loss']\n",
    "val_loss = history.history['val_loss']\n",
    "epochs = range(1, len(loss) + 1)\n",
    "plt.plot(epochs, loss, color='red', label='Training loss')\n",
    "plt.plot(epochs, val_loss, color='green', label='Validation loss')\n",
    "plt.title('Training and validation loss')\n",
    "plt.xlabel('Epochs')\n",
    "plt.ylabel('Loss')\n",
    "plt.legend()\n",
    "plt.show()\n",
    "\n",
    "# Plot history: Accuracy\n",
    "accuracy = history.history['accuracy']\n",
    "val_accuracy = history.history['val_accuracy']\n",
    "epochs = range(1, len(loss) + 1)\n",
    "plt.plot(epochs, accuracy, color='red', label='Training accuracy')\n",
    "plt.plot(epochs, val_accuracy, color='green', label='Validation accuracy')\n",
    "plt.title('Training and Validation accuracy')\n",
    "plt.ylabel('Accuracy value (%)')\n",
    "plt.xlabel('No. epoch')\n",
    "plt.show()"
   ]
  },
  {
   "cell_type": "code",
   "execution_count": null,
   "metadata": {},
   "outputs": [],
   "source": []
  }
 ],
 "metadata": {
  "kernelspec": {
   "display_name": "Python 3",
   "language": "python",
   "name": "python3"
  },
  "language_info": {
   "codemirror_mode": {
    "name": "ipython",
    "version": 3
   },
   "file_extension": ".py",
   "mimetype": "text/x-python",
   "name": "python",
   "nbconvert_exporter": "python",
   "pygments_lexer": "ipython3",
   "version": "3.7.6"
  }
 },
 "nbformat": 4,
 "nbformat_minor": 4
}
