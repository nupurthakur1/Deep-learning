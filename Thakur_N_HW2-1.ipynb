{
 "cells": [
  {
   "cell_type": "code",
   "execution_count": 1,
   "metadata": {},
   "outputs": [
    {
     "name": "stderr",
     "output_type": "stream",
     "text": [
      "Using TensorFlow backend.\n"
     ]
    }
   ],
   "source": [
    "import numpy as np\n",
    "import pandas as pd\n",
    "import tensorflow as tf\n",
    "from sklearn import preprocessing\n",
    "from sklearn.preprocessing import LabelEncoder, OneHotEncoder\n",
    "\n",
    "from numpy import loadtxt\n",
    "from keras.models import Sequential\n",
    "from keras.layers import Dense\n",
    "from keras import regularizers\n",
    "from keras.optimizers import SGD\n",
    "import matplotlib.pyplot as plt\n",
    "%matplotlib inline\n",
    "\n",
    "df = pd.read_csv(\"Image_Segmentation.csv\")"
   ]
  },
  {
   "cell_type": "code",
   "execution_count": 2,
   "metadata": {},
   "outputs": [],
   "source": [
    "column = ['Y']\n",
    "y_array = np.array(column)\n",
    "y= df['Y']\n",
    "\n",
    "y = pd.get_dummies(y)\n",
    "y_train = y.loc[0:1999]\n",
    "y_test = y.loc[2000:2299]\n",
    "# Drop column B as it is now encoded\n",
    "df_new = df.drop('Y',axis = 1)\n",
    "#normalise data\n",
    "min_max_scaler = preprocessing.MinMaxScaler()\n",
    "np_scaled = min_max_scaler.fit_transform(df_new)\n",
    "df_normalized = pd.DataFrame(np_scaled)\n",
    "df_normalized.columns+=1\n",
    "df_normalized.insert(0, 'A0', 1)\n",
    "\n",
    "#Splitting datasets 2000 training and 300 test\n",
    "x_train = df_normalized.loc[0:1999]\n",
    "x_test = df_normalized.loc[2000:2299]"
   ]
  },
  {
   "cell_type": "code",
   "execution_count": 3,
   "metadata": {},
   "outputs": [
    {
     "name": "stdout",
     "output_type": "stream",
     "text": [
      "Accuracy: [0.6966666579246521, 0.8799999952316284, 0.8666666746139526, 0.7733333110809326, 0.8833333253860474, 0.8133333325386047, 0.7733333110809326, 0.8733333349227905, 0.8233333230018616, 0.6100000143051147]\n",
      "Mean accuracy: 79.93333280086517\n"
     ]
    }
   ],
   "source": [
    "# 1 hidden layer 5 neurons\n",
    "total = 0\n",
    "acc1=[] \n",
    "while total < 10:\n",
    "    model = Sequential()\n",
    "    model.add(Dense(5, input_dim=20, kernel_regularizer=regularizers.l2(0.01), activation='relu'))    \n",
    "    model.add(Dense(7, activation='softmax'))               \n",
    "    sgd = SGD(lr=0.1)\n",
    "    model.compile(loss='categorical_crossentropy', optimizer=sgd, metrics=['accuracy'])\n",
    "    model.fit(x_train, y_train, epochs=20, batch_size=5, verbose=0)\n",
    "    test_acc = model.evaluate(x_test, y_test, verbose=0)\n",
    "    acc1.append(test_acc[1])\n",
    "    total+=1\n",
    "print('Accuracy:',acc1)\n",
    "print('Mean accuracy:', np.mean(acc1)*100)"
   ]
  },
  {
   "cell_type": "code",
   "execution_count": 4,
   "metadata": {},
   "outputs": [
    {
     "name": "stdout",
     "output_type": "stream",
     "text": [
      "Accuracy: [0.7133333086967468, 0.7833333611488342, 0.7433333396911621, 0.6499999761581421, 0.7099999785423279, 0.8199999928474426, 0.79666668176651, 0.8166666626930237, 0.7633333206176758, 0.6100000143051147]\n",
      "Mean accuracy: 74.0666663646698\n"
     ]
    }
   ],
   "source": [
    "# 2 hidden layers 5 neurons each\n",
    "total = 0\n",
    "acc2=[] \n",
    "while total < 10:\n",
    "    model = Sequential()\n",
    "    model.add(Dense(5, input_dim=20, kernel_regularizer=regularizers.l2(0.01), activation='relu'))    \n",
    "    model.add(Dense(5, activation='relu'))  \n",
    "    model.add(Dense(7, activation='softmax'))               \n",
    "    sgd = SGD(lr=0.1)\n",
    "    model.compile(loss='categorical_crossentropy', optimizer=sgd, metrics=['accuracy'])\n",
    "    model.fit(x_train, y_train, epochs=20, batch_size=5, verbose=0)\n",
    "    test_acc = model.evaluate(x_test, y_test, verbose=0)\n",
    "    acc2.append(test_acc[1])\n",
    "    total+=1\n",
    "print('Accuracy:',acc2)\n",
    "print('Mean accuracy:', np.mean(acc2)*100)"
   ]
  },
  {
   "cell_type": "code",
   "execution_count": 5,
   "metadata": {},
   "outputs": [
    {
     "name": "stdout",
     "output_type": "stream",
     "text": [
      "Accuracy: [0.8733333349227905, 0.8733333349227905, 0.746666669845581, 0.8866666555404663, 0.8399999737739563, 0.7133333086967468, 0.8866666555404663, 0.75, 0.800000011920929, 0.8399999737739563]\n",
      "Mean accuracy: 82.09999918937683\n"
     ]
    }
   ],
   "source": [
    "# 1 hidden layer 25 neurons\n",
    "acc3=[] \n",
    "total = 0\n",
    "while total < 10:\n",
    "    model = Sequential()\n",
    "    model.add(Dense(25, input_dim=20, kernel_regularizer=regularizers.l2(0.01), activation='relu'))    \n",
    "    model.add(Dense(7, activation='softmax'))               \n",
    "    sgd = SGD(lr=0.1)\n",
    "    model.compile(loss='categorical_crossentropy', optimizer=sgd, metrics=['accuracy'])\n",
    "    model.fit(x_train, y_train, validation_data=(x_test, y_test), epochs=20, batch_size=5, verbose=0)\n",
    "    train_acc = model.evaluate(x_train, y_train, verbose=0)\n",
    "    test_acc = model.evaluate(x_test, y_test, verbose=0)\n",
    "    acc3.append(test_acc[1])\n",
    "    total+=1\n",
    "print('Accuracy:',acc3)\n",
    "print('Mean accuracy:', np.mean(acc3)*100)"
   ]
  },
  {
   "cell_type": "code",
   "execution_count": 6,
   "metadata": {},
   "outputs": [
    {
     "name": "stdout",
     "output_type": "stream",
     "text": [
      "Accuracy: [0.9100000262260437, 0.6033333539962769, 0.8500000238418579, 0.8199999928474426, 0.8299999833106995, 0.8733333349227905, 0.8366666436195374, 0.8733333349227905, 0.7433333396911621, 0.7699999809265137]\n",
      "Mean accuracy: 81.10000014305115\n"
     ]
    }
   ],
   "source": [
    "# 2 hidden layers 25 neurons each\n",
    "acc4 =[]\n",
    "total = 0\n",
    "while total < 10:\n",
    "    model = Sequential()\n",
    "    model.add(Dense(25, input_dim=20, kernel_regularizer=regularizers.l2(0.01), activation='relu'))    \n",
    "    model.add(Dense(25, activation='relu'))    \n",
    "    model.add(Dense(7, activation='softmax'))               \n",
    "    sgd = SGD(lr=0.1)\n",
    "    model.compile(loss='categorical_crossentropy', optimizer=sgd, metrics=['accuracy'])\n",
    "    model.fit(x_train, y_train, validation_data=(x_test, y_test), epochs=20, batch_size=5, verbose=0)\n",
    "    test_acc = model.evaluate(x_test, y_test, verbose=0)\n",
    "    acc4.append(test_acc[1])\n",
    "    total+=1\n",
    "print('Accuracy:',acc4)\n",
    "print('Mean accuracy:', np.mean(acc4)*100)"
   ]
  },
  {
   "cell_type": "code",
   "execution_count": 7,
   "metadata": {},
   "outputs": [
    {
     "data": {
      "image/png": "[encoded data removed]",
      "text/plain": [
       "<Figure size 432x288 with 1 Axes>"
      ]
     },
     "metadata": {
      "needs_background": "light"
     },
     "output_type": "display_data"
    }
   ],
   "source": [
    "objects = ('5', '5,5', '25', '25,25')\n",
    "y_pos = np.arange(len(objects))\n",
    "performance = [np.mean(acc1), np.mean(acc2), np.mean(acc3), np.mean(acc4)]\n",
    "for i in range(4):\n",
    "    plt.bar(y_pos[i], performance[i], align='center', alpha=0.5, color='blue')\n",
    "plt.xticks(y_pos, objects)\n",
    "plt.xlabel('Model')\n",
    "plt.ylabel('Accuracy')\n",
    "plt.title('Average Classification Accuracy Vs Model')\n",
    " \n",
    "plt.show()"
   ]
  },
  {
   "cell_type": "code",
   "execution_count": null,
   "metadata": {},
   "outputs": [],
   "source": []
  }
 ],
 "metadata": {
  "kernelspec": {
   "display_name": "Python 3",
   "language": "python",
   "name": "python3"
  },
  "language_info": {
   "codemirror_mode": {
    "name": "ipython",
    "version": 3
   },
   "file_extension": ".py",
   "mimetype": "text/x-python",
   "name": "python",
   "nbconvert_exporter": "python",
   "pygments_lexer": "ipython3",
   "version": "3.7.6"
  }
 },
 "nbformat": 4,
 "nbformat_minor": 2
}
